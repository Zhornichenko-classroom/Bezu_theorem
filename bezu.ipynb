{
 "cells": [
  {
   "cell_type": "code",
   "execution_count": 78,
   "id": "90046a53",
   "metadata": {},
   "outputs": [],
   "source": [
    "import numpy as np"
   ]
  },
  {
   "cell_type": "code",
   "execution_count": 83,
   "id": "084feb5b",
   "metadata": {},
   "outputs": [
    {
     "name": "stdout",
     "output_type": "stream",
     "text": [
      "степень полинома = 1\n"
     ]
    }
   ],
   "source": [
    "poly_grade = int(input(\"степень полинома = \"))\n"
   ]
  },
  {
   "cell_type": "code",
   "execution_count": null,
   "id": "da8db850",
   "metadata": {},
   "outputs": [],
   "source": [
    "\n",
    "test_value = int(input(\"тестовое значение = \"))\n"
   ]
  },
  {
   "cell_type": "code",
   "execution_count": 81,
   "id": "71c74aa4",
   "metadata": {},
   "outputs": [],
   "source": [
    "\n",
    "coef = []\n"
   ]
  },
  {
   "cell_type": "code",
   "execution_count": 84,
   "id": "84414809",
   "metadata": {},
   "outputs": [
    {
     "name": "stdout",
     "output_type": "stream",
     "text": [
      "1\n",
      "i =  0 coefs =  1\n",
      "-1\n",
      "i =  1 coefs =  -1\n"
     ]
    }
   ],
   "source": [
    "\n",
    "for i in range(poly_grade+1): \n",
    "    a = int(input())\n",
    "    coef.append(a)\n",
    "    print(\"i = \",i,\"coefs = \",coef[i])\n",
    "\n",
    "\n"
   ]
  },
  {
   "cell_type": "code",
   "execution_count": 91,
   "id": "b6eee2be",
   "metadata": {},
   "outputs": [],
   "source": [
    "def Bezu(test_value):\n",
    "    test=int(test_value[1:])*(-1)\n",
    "    polynom = 0\n",
    "    for j in range(poly_grade+1): \n",
    "        polynom = polynom + (coef[j]*(test)**(poly_grade-j))\n",
    "        print(\"j\", j , \"polynom = \",polynom )\n",
    "    if (polynom != 0): \n",
    "        print(\"ERROR::message: incorrect value\")\n",
    "        pass\n",
    "        \n",
    "    else: \n",
    "        if(test > 0):\n",
    "            \n",
    "            \n",
    "            print(\"x-\",test)\n",
    "            \n",
    "        else:\n",
    "            print(\"x+\",test)\n",
    "        "
   ]
  },
  {
   "cell_type": "markdown",
   "id": "ce87db0d",
   "metadata": {},
   "source": [
    "### Задание №1"
   ]
  },
  {
   "cell_type": "code",
   "execution_count": 109,
   "id": "616789d9",
   "metadata": {},
   "outputs": [
    {
     "name": "stdout",
     "output_type": "stream",
     "text": [
      "[1, 2, 4, 5, 6, 7, 8, 9, 10]\n",
      "j 0 polynom =  1\n",
      "j 1 polynom =  0\n",
      "x- 1\n",
      "j 0 polynom =  2\n",
      "j 1 polynom =  1\n",
      "ERROR::message: incorrect value\n",
      "j 0 polynom =  4\n",
      "j 1 polynom =  3\n",
      "ERROR::message: incorrect value\n",
      "j 0 polynom =  5\n",
      "j 1 polynom =  4\n",
      "ERROR::message: incorrect value\n",
      "j 0 polynom =  6\n",
      "j 1 polynom =  5\n",
      "ERROR::message: incorrect value\n",
      "j 0 polynom =  7\n",
      "j 1 polynom =  6\n",
      "ERROR::message: incorrect value\n",
      "j 0 polynom =  8\n",
      "j 1 polynom =  7\n",
      "ERROR::message: incorrect value\n",
      "j 0 polynom =  9\n",
      "j 1 polynom =  8\n",
      "ERROR::message: incorrect value\n",
      "j 0 polynom =  10\n",
      "j 1 polynom =  9\n",
      "ERROR::message: incorrect value\n"
     ]
    }
   ],
   "source": [
    "\n",
    "# задаем последовательность для теста теоремы\n",
    "list_array = [1,2,4,5,6,7,8,9,10]\n",
    "print(list_array)\n",
    "\n",
    "#цикл прогонки значений теоремы\n",
    "for i in range(len(list_array)):\n",
    "    \n",
    "    prefix = \"x-\"\n",
    "    #контактенирование строки со значением списка, представленного выше\n",
    "    prefix = prefix + str(list_array[i])\n",
    "    \n",
    "    #проверка для всех значений(зацикливаем метод Безу)\n",
    "    Bezu(prefix)"
   ]
  },
  {
   "cell_type": "code",
   "execution_count": null,
   "id": "2a46b36b",
   "metadata": {},
   "outputs": [],
   "source": []
  }
 ],
 "metadata": {
  "kernelspec": {
   "display_name": "Python 3 (ipykernel)",
   "language": "python",
   "name": "python3"
  },
  "language_info": {
   "codemirror_mode": {
    "name": "ipython",
    "version": 3
   },
   "file_extension": ".py",
   "mimetype": "text/x-python",
   "name": "python",
   "nbconvert_exporter": "python",
   "pygments_lexer": "ipython3",
   "version": "3.10.2"
  }
 },
 "nbformat": 4,
 "nbformat_minor": 5
}
